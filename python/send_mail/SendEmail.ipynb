{
 "cells": [
  {
   "cell_type": "code",
   "execution_count": 1,
   "id": "f51a5825",
   "metadata": {},
   "outputs": [],
   "source": [
    "from flask import Flask, url_for, request, jsonify\n",
    "from flask_cors import CORS, cross_origin\n",
    "import json, requests, pickle\n",
    "\n",
    "import smtplib\n",
    "import os\n",
    "from email.mime.text import MIMEText\n",
    "from email import encoders"
   ]
  },
  {
   "cell_type": "code",
   "execution_count": 2,
   "id": "28472f25",
   "metadata": {},
   "outputs": [],
   "source": [
    "# Google 아이디, 비밀번호 저장 파일\n",
    "EMAIL_USER_DATA_SAVED_FILE = 'res/account'"
   ]
  },
  {
   "cell_type": "code",
   "execution_count": 3,
   "id": "b85e9b8b",
   "metadata": {},
   "outputs": [],
   "source": [
    "f = open(EMAIL_USER_DATA_SAVED_FILE, 'rb')\n",
    "email_user_info = pickle.load(f)\n",
    "f.close()"
   ]
  },
  {
   "cell_type": "code",
   "execution_count": 4,
   "id": "6481beca",
   "metadata": {},
   "outputs": [],
   "source": [
    "def send_email(smtp_info, msg):\n",
    "    with smtplib.SMTP(smtp_info['smtp_server'], smtp_info['smtp_port']) as server:\n",
    "\n",
    "        server.starttls()\n",
    "        \n",
    "        server.login(email_user_info['smtp_user_id'], email_user_info['smtp_user_pw'])\n",
    "        \n",
    "        res = server.sendmail(msg['from'], msg['to'], msg.as_string())\n",
    "        \n",
    "        if not res:\n",
    "            print('이메일 전송 성공')\n",
    "        \n",
    "            return 'success'\n",
    "        else:\n",
    "            print(res)\n",
    " \n",
    "            return 'fail'"
   ]
  },
  {
   "cell_type": "code",
   "execution_count": 5,
   "id": "11d91c81",
   "metadata": {},
   "outputs": [
    {
     "name": "stdout",
     "output_type": "stream",
     "text": [
      " * Serving Flask app \"__main__\" (lazy loading)\n",
      " * Environment: production\n",
      "   WARNING: This is a development server. Do not use it in a production deployment.\n",
      "   Use a production WSGI server instead.\n",
      " * Debug mode: off\n"
     ]
    },
    {
     "name": "stderr",
     "output_type": "stream",
     "text": [
      " * Running on http://127.0.0.1:5000/ (Press CTRL+C to quit)\n",
      "127.0.0.1 - - [21/Oct/2021 21:35:53] \"\u001b[37mOPTIONS /sendEmail HTTP/1.1\u001b[0m\" 200 -\n",
      "<ipython-input-5-bcb15d911409>:8: DeprecationWarning: 'encoding' is ignored and deprecated. It will be removed in Python 3.9\n",
      "  params = json.loads(request.get_data(), encoding='utf-8')\n"
     ]
    },
    {
     "name": "stdout",
     "output_type": "stream",
     "text": [
      "{'userId': 'test', 'email': 'mybangservice@gmail.com'}\n",
      "test mybangservice@gmail.com\n"
     ]
    },
    {
     "name": "stderr",
     "output_type": "stream",
     "text": [
      "127.0.0.1 - - [21/Oct/2021 21:35:56] \"\u001b[37mPOST /sendEmail HTTP/1.1\u001b[0m\" 200 -\n"
     ]
    },
    {
     "name": "stdout",
     "output_type": "stream",
     "text": [
      "이메일 전송 성공\n",
      "success\n"
     ]
    }
   ],
   "source": [
    "import datetime\n",
    "\n",
    "app = Flask(__name__)\n",
    "CORS(app)\n",
    "\n",
    "@app.route('/sendEmail', methods = ['GET', 'POST'])\n",
    "def orderTest():\n",
    "    params = json.loads(request.get_data(), encoding='utf-8')\n",
    "    \n",
    "    print(params)\n",
    "    \n",
    "    if len(params) == 0:\n",
    "        return jsonify('No Parameter')\n",
    "    \n",
    "    values = []\n",
    "    \n",
    "    for key in params.keys():\n",
    "        values.append(params[key])\n",
    "        \n",
    "    userId = values[0]\n",
    "    email = values[1]\n",
    "    \n",
    "    print(userId, email)\n",
    "\n",
    "    smtp_info = dict({\n",
    "        'smtp_server': 'smtp.gmail.com',\n",
    "        'smtp_port': 587\n",
    "    })\n",
    "\n",
    "    now = datetime.datetime.now()\n",
    "    now_time = now.strftime('%Y-%m-%d %H:%M')\n",
    "    \n",
    "    title = userId + '님 비밀번호 재설정 링크입니다.'\n",
    "    content =  now_time + '에 비밀번호 재설정을 요청하였습니다.\\n아래 링크에서 비밀번호 재설정을 완료해 주세요.\\nhttp://localhost:8080/modifyPassword?userId=' + userId \n",
    "    sender = email_user_info['smtp_user_id']\n",
    "    receiver = email\n",
    "    \n",
    "    msg = MIMEText(_text = content, _charset = 'utf-8')\n",
    "\n",
    "    msg['Subject'] = title\n",
    "    msg['From'] = sender\n",
    "    msg['To'] = receiver\n",
    "    \n",
    "    isSuccess = send_email(smtp_info, msg)\n",
    "\n",
    "    print(isSuccess)\n",
    "    \n",
    "    return isSuccess\n",
    "\n",
    "if __name__ == '__main__':\n",
    "    app.run()"
   ]
  },
  {
   "cell_type": "code",
   "execution_count": null,
   "id": "5741b816",
   "metadata": {},
   "outputs": [],
   "source": []
  }
 ],
 "metadata": {
  "kernelspec": {
   "display_name": "Python 3",
   "language": "python",
   "name": "python3"
  },
  "language_info": {
   "codemirror_mode": {
    "name": "ipython",
    "version": 3
   },
   "file_extension": ".py",
   "mimetype": "text/x-python",
   "name": "python",
   "nbconvert_exporter": "python",
   "pygments_lexer": "ipython3",
   "version": "3.8.8"
  }
 },
 "nbformat": 4,
 "nbformat_minor": 5
}
